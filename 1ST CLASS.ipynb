{
 "cells": [
  {
   "cell_type": "markdown",
   "id": "d3185b28-07f9-4981-a153-ff258698af58",
   "metadata": {},
   "source": [
    "SHORTCUT KEY FOR CREATE A CELL IS (ESC+A)"
   ]
  },
  {
   "cell_type": "markdown",
   "id": "37f53e6d-089e-442c-8725-aa00809476d7",
   "metadata": {},
   "source": [
    "### NUMBERS"
   ]
  },
  {
   "cell_type": "code",
   "execution_count": 1,
   "id": "7cad2644-470a-424f-aaa9-c553cbcb61ea",
   "metadata": {},
   "outputs": [
    {
     "data": {
      "text/plain": [
       "4"
      ]
     },
     "execution_count": 1,
     "metadata": {},
     "output_type": "execute_result"
    }
   ],
   "source": [
    "1+3"
   ]
  },
  {
   "cell_type": "code",
   "execution_count": 3,
   "id": "fa383a48-d956-421c-a611-f60c64416c87",
   "metadata": {},
   "outputs": [
    {
     "name": "stdout",
     "output_type": "stream",
     "text": [
      "4\n"
     ]
    }
   ],
   "source": [
    "print(1+3)"
   ]
  },
  {
   "cell_type": "code",
   "execution_count": 4,
   "id": "f1bb3130-3ab4-41e7-b209-0c48ab1393be",
   "metadata": {},
   "outputs": [],
   "source": [
    "#whenever we use print() it works as an output console , i can see the output "
   ]
  },
  {
   "cell_type": "code",
   "execution_count": 6,
   "id": "a42973ce-4554-4340-82a7-55aba8c3bf6e",
   "metadata": {},
   "outputs": [
    {
     "name": "stdout",
     "output_type": "stream",
     "text": [
      "5\n"
     ]
    }
   ],
   "source": [
    "a=5\n",
    "print(a)"
   ]
  },
  {
   "cell_type": "code",
   "execution_count": 7,
   "id": "efb1828b-55d8-495d-9ef8-1936540bf8e2",
   "metadata": {},
   "outputs": [],
   "source": [
    "#print is a inbuild function so to know what this function do before the bracket press (shift+tab)"
   ]
  },
  {
   "cell_type": "code",
   "execution_count": 9,
   "id": "a7bc569b-84e9-4903-bdb5-fd408d0effe3",
   "metadata": {},
   "outputs": [
    {
     "name": "stdout",
     "output_type": "stream",
     "text": [
      "hello jyotirmaya this is your /n first class on data sc\n"
     ]
    }
   ],
   "source": [
    "print (\"hello jyotirmaya this is your /n first class on data sc\")"
   ]
  },
  {
   "cell_type": "code",
   "execution_count": 10,
   "id": "6553e4f5-c565-4a36-87ee-4a11e8014fae",
   "metadata": {},
   "outputs": [],
   "source": [
    "#use /n to write more sentence and execute "
   ]
  },
  {
   "cell_type": "code",
   "execution_count": 11,
   "id": "e566989c-a6ca-4fae-af41-29e11d89d18b",
   "metadata": {},
   "outputs": [
    {
     "name": "stdout",
     "output_type": "stream",
     "text": [
      "hello /n my name is jyotirmaya /n and i am trying to use /n in multiline\n"
     ]
    }
   ],
   "source": [
    "print(\"hello /n my name is jyotirmaya /n and i am trying to use /n in multiline\")"
   ]
  },
  {
   "cell_type": "code",
   "execution_count": 12,
   "id": "3e896549-b95c-4239-80e9-8c044b4491a3",
   "metadata": {},
   "outputs": [
    {
     "name": "stdout",
     "output_type": "stream",
     "text": [
      "hello \n",
      "my name is jyotirmaya \n",
      "and i am usuing this for multiline command \n"
     ]
    }
   ],
   "source": [
    "print (\"\"\"hello \n",
    "my name is jyotirmaya \n",
    "and i am usuing this for multiline command \"\"\")"
   ]
  },
  {
   "cell_type": "markdown",
   "id": "7c325618-2fc1-4da6-aeeb-835b8aaa83de",
   "metadata": {},
   "source": [
    "### variable assignment"
   ]
  },
  {
   "cell_type": "code",
   "execution_count": 13,
   "id": "41d6d54c-9124-474a-bdbe-eab8d6f1cac0",
   "metadata": {},
   "outputs": [],
   "source": [
    "#variable assignment basicaly means i am usuing a variable and assign it something like below "
   ]
  },
  {
   "cell_type": "code",
   "execution_count": 14,
   "id": "ad9ca419-6cc5-441c-9766-b2de7f6841fc",
   "metadata": {},
   "outputs": [],
   "source": [
    "name = (\"bicky\")\n",
    "company=(\"vyapar\")"
   ]
  },
  {
   "cell_type": "code",
   "execution_count": 15,
   "id": "31198432-ece4-4582-ab94-7292b29187c7",
   "metadata": {},
   "outputs": [
    {
     "data": {
      "text/plain": [
       "'bicky'"
      ]
     },
     "execution_count": 15,
     "metadata": {},
     "output_type": "execute_result"
    }
   ],
   "source": [
    "name "
   ]
  },
  {
   "cell_type": "code",
   "execution_count": 16,
   "id": "abdd3c4a-e88c-4aa8-b667-0f281e935f1e",
   "metadata": {},
   "outputs": [
    {
     "data": {
      "text/plain": [
       "'vyapar'"
      ]
     },
     "execution_count": 16,
     "metadata": {},
     "output_type": "execute_result"
    }
   ],
   "source": [
    "company"
   ]
  },
  {
   "cell_type": "code",
   "execution_count": 17,
   "id": "049ddb55-072e-4a8e-9e4d-1d64a48b2af4",
   "metadata": {},
   "outputs": [],
   "source": [
    "#to check any objects type there is a function called type ()"
   ]
  },
  {
   "cell_type": "code",
   "execution_count": 18,
   "id": "485e540f-c5ee-4c4b-9f39-98348c1057a8",
   "metadata": {},
   "outputs": [
    {
     "data": {
      "text/plain": [
       "str"
      ]
     },
     "execution_count": 18,
     "metadata": {},
     "output_type": "execute_result"
    }
   ],
   "source": [
    "type(name)"
   ]
  },
  {
   "cell_type": "code",
   "execution_count": 1,
   "id": "41ac9a8a-9bba-4af6-8db7-e3b2e06f7f4c",
   "metadata": {},
   "outputs": [],
   "source": [
    "#the reserved keywords are \"\"int , float ,len,complex,bool,str,return , yeild etc.."
   ]
  },
  {
   "cell_type": "code",
   "execution_count": 3,
   "id": "2613fccc-66b7-41e2-9a17-2ccfbf37dd00",
   "metadata": {},
   "outputs": [
    {
     "data": {
      "text/plain": [
       "True"
      ]
     },
     "execution_count": 3,
     "metadata": {},
     "output_type": "execute_result"
    }
   ],
   "source": [
    "True"
   ]
  },
  {
   "cell_type": "code",
   "execution_count": 4,
   "id": "151c91ce-4d5d-4221-9afe-4efd05a3a045",
   "metadata": {},
   "outputs": [
    {
     "data": {
      "text/plain": [
       "False"
      ]
     },
     "execution_count": 4,
     "metadata": {},
     "output_type": "execute_result"
    }
   ],
   "source": [
    "False"
   ]
  },
  {
   "cell_type": "code",
   "execution_count": 5,
   "id": "c294ddb4-2ed0-40ac-9a0d-2d914d14fdd7",
   "metadata": {},
   "outputs": [
    {
     "data": {
      "text/plain": [
       "False"
      ]
     },
     "execution_count": 5,
     "metadata": {},
     "output_type": "execute_result"
    }
   ],
   "source": [
    "True and False"
   ]
  },
  {
   "cell_type": "code",
   "execution_count": 6,
   "id": "2a05c17b-010c-4c28-9b35-0bcf5d3aef84",
   "metadata": {},
   "outputs": [
    {
     "data": {
      "text/plain": [
       "True"
      ]
     },
     "execution_count": 6,
     "metadata": {},
     "output_type": "execute_result"
    }
   ],
   "source": [
    "True or False"
   ]
  },
  {
   "cell_type": "code",
   "execution_count": 7,
   "id": "f3346fd3-6079-4a6d-b5d4-3b70028fb021",
   "metadata": {},
   "outputs": [
    {
     "data": {
      "text/plain": [
       "False"
      ]
     },
     "execution_count": 7,
     "metadata": {},
     "output_type": "execute_result"
    }
   ],
   "source": [
    "not True"
   ]
  },
  {
   "cell_type": "code",
   "execution_count": 9,
   "id": "3c77ea8c-01f0-4aa7-90b6-14541fff9a58",
   "metadata": {},
   "outputs": [
    {
     "data": {
      "text/plain": [
       "bool"
      ]
     },
     "execution_count": 9,
     "metadata": {},
     "output_type": "execute_result"
    }
   ],
   "source": [
    "type(not False)"
   ]
  },
  {
   "cell_type": "markdown",
   "id": "3945322f-3a10-4477-a912-78bd0bcea2ca",
   "metadata": {},
   "source": [
    "### dynamic typing"
   ]
  },
  {
   "cell_type": "code",
   "execution_count": 10,
   "id": "d347ca34-5886-4dcb-a403-2625d895777f",
   "metadata": {},
   "outputs": [],
   "source": [
    "#basically dynamic typing is when you execute a programme the system will automatically know the type of the variable thats basically called as dynamic typing lets see "
   ]
  },
  {
   "cell_type": "code",
   "execution_count": 11,
   "id": "428a2de2-f196-43de-a395-c98a2134a081",
   "metadata": {},
   "outputs": [],
   "source": [
    "a= 23\n",
    "ab=\"bicky\""
   ]
  },
  {
   "cell_type": "code",
   "execution_count": 12,
   "id": "d3725dac-b400-4d93-b1ec-32e1a32a581a",
   "metadata": {},
   "outputs": [
    {
     "data": {
      "text/plain": [
       "23"
      ]
     },
     "execution_count": 12,
     "metadata": {},
     "output_type": "execute_result"
    }
   ],
   "source": [
    "a"
   ]
  },
  {
   "cell_type": "code",
   "execution_count": 13,
   "id": "7246e86b-5006-4397-b072-f478960fe048",
   "metadata": {},
   "outputs": [
    {
     "data": {
      "text/plain": [
       "'bicky'"
      ]
     },
     "execution_count": 13,
     "metadata": {},
     "output_type": "execute_result"
    }
   ],
   "source": [
    "ab"
   ]
  },
  {
   "cell_type": "code",
   "execution_count": 14,
   "id": "808678bf-e96e-43c6-8e9d-56db8df11ddf",
   "metadata": {},
   "outputs": [],
   "source": [
    "#in dynamic typing we dont need to define the type of data , it will be difened automatically by the system"
   ]
  },
  {
   "cell_type": "markdown",
   "id": "1179c3c9-9332-4e2e-9c45-47cf7fd0bc6f",
   "metadata": {},
   "source": [
    "### concatinate between data"
   ]
  },
  {
   "cell_type": "code",
   "execution_count": 15,
   "id": "19ee3b83-94ed-4be2-89f0-a7fad47d4839",
   "metadata": {},
   "outputs": [
    {
     "data": {
      "text/plain": [
       "'11'"
      ]
     },
     "execution_count": 15,
     "metadata": {},
     "output_type": "execute_result"
    }
   ],
   "source": [
    "\"1\"+\"1\""
   ]
  },
  {
   "cell_type": "code",
   "execution_count": 16,
   "id": "d49f15e6-9904-4917-a3af-743e05adc0e7",
   "metadata": {},
   "outputs": [],
   "source": [
    "#but if i will write"
   ]
  },
  {
   "cell_type": "code",
   "execution_count": 17,
   "id": "8d5cb296-a155-4053-9afa-35ed61eaad5d",
   "metadata": {},
   "outputs": [
    {
     "ename": "TypeError",
     "evalue": "unsupported operand type(s) for +: 'int' and 'str'",
     "output_type": "error",
     "traceback": [
      "\u001b[0;31m---------------------------------------------------------------------------\u001b[0m",
      "\u001b[0;31mTypeError\u001b[0m                                 Traceback (most recent call last)",
      "Cell \u001b[0;32mIn[17], line 1\u001b[0m\n\u001b[0;32m----> 1\u001b[0m \u001b[38;5;28;43mint\u001b[39;49m\u001b[43m(\u001b[49m\u001b[38;5;124;43m\"\u001b[39;49m\u001b[38;5;124;43m1\u001b[39;49m\u001b[38;5;124;43m\"\u001b[39;49m\u001b[43m)\u001b[49m\u001b[43m \u001b[49m\u001b[38;5;241;43m+\u001b[39;49m\u001b[43m \u001b[49m\u001b[43m(\u001b[49m\u001b[38;5;124;43m\"\u001b[39;49m\u001b[38;5;124;43m1\u001b[39;49m\u001b[38;5;124;43m\"\u001b[39;49m\u001b[43m)\u001b[49m\n",
      "\u001b[0;31mTypeError\u001b[0m: unsupported operand type(s) for +: 'int' and 'str'"
     ]
    }
   ],
   "source": [
    "int(\"1\") + (\"1\")"
   ]
  },
  {
   "cell_type": "code",
   "execution_count": 18,
   "id": "344acf58-3791-49e5-a38a-d687d9c81558",
   "metadata": {},
   "outputs": [],
   "source": [
    "#because you can not add integer with string "
   ]
  },
  {
   "cell_type": "code",
   "execution_count": 19,
   "id": "80ec1f34-eb5b-4bbc-b3bc-c71dc2a7576e",
   "metadata": {},
   "outputs": [
    {
     "data": {
      "text/plain": [
       "'bickysimi'"
      ]
     },
     "execution_count": 19,
     "metadata": {},
     "output_type": "execute_result"
    }
   ],
   "source": [
    "\"bicky\"+\"simi\""
   ]
  },
  {
   "cell_type": "code",
   "execution_count": 20,
   "id": "54ed669c-7543-44d6-b458-4a25f8cb04d8",
   "metadata": {},
   "outputs": [],
   "source": [
    "#this is basically concatination between to data "
   ]
  },
  {
   "cell_type": "markdown",
   "id": "66478e5a-b078-4da3-9214-c57d5e26bdaf",
   "metadata": {},
   "source": [
    "### type casting "
   ]
  },
  {
   "cell_type": "code",
   "execution_count": 21,
   "id": "d1e4bdc8-42be-440f-bb6a-3552bf26ae96",
   "metadata": {},
   "outputs": [],
   "source": [
    "#suppose i am writting "
   ]
  },
  {
   "cell_type": "code",
   "execution_count": 22,
   "id": "48dcb000-1acf-46f7-adc5-856d263e45e1",
   "metadata": {},
   "outputs": [
    {
     "data": {
      "text/plain": [
       "123"
      ]
     },
     "execution_count": 22,
     "metadata": {},
     "output_type": "execute_result"
    }
   ],
   "source": [
    "123"
   ]
  },
  {
   "cell_type": "code",
   "execution_count": 23,
   "id": "5e43e7d5-13d4-43ee-ab29-15c492bb9263",
   "metadata": {},
   "outputs": [],
   "source": [
    "#if i want to typecaste it to integer then "
   ]
  },
  {
   "cell_type": "code",
   "execution_count": 24,
   "id": "f462dc35-ea27-4f3c-a2b0-940df5ab5497",
   "metadata": {},
   "outputs": [
    {
     "data": {
      "text/plain": [
       "123"
      ]
     },
     "execution_count": 24,
     "metadata": {},
     "output_type": "execute_result"
    }
   ],
   "source": [
    "int(123)"
   ]
  },
  {
   "cell_type": "code",
   "execution_count": 25,
   "id": "41eace1e-f360-4c93-9827-db5bf0fa99da",
   "metadata": {},
   "outputs": [],
   "source": [
    "#if i want to typecaste it to floatthen "
   ]
  },
  {
   "cell_type": "code",
   "execution_count": 26,
   "id": "016d2517-c6bc-4e01-9679-1b5948463fe2",
   "metadata": {},
   "outputs": [
    {
     "data": {
      "text/plain": [
       "123.0"
      ]
     },
     "execution_count": 26,
     "metadata": {},
     "output_type": "execute_result"
    }
   ],
   "source": [
    "float(123)"
   ]
  },
  {
   "cell_type": "code",
   "execution_count": null,
   "id": "30e530e6-4107-4617-abd1-c2d7676e03bb",
   "metadata": {},
   "outputs": [],
   "source": []
  }
 ],
 "metadata": {
  "kernelspec": {
   "display_name": "Python 3 (ipykernel)",
   "language": "python",
   "name": "python3"
  },
  "language_info": {
   "codemirror_mode": {
    "name": "ipython",
    "version": 3
   },
   "file_extension": ".py",
   "mimetype": "text/x-python",
   "name": "python",
   "nbconvert_exporter": "python",
   "pygments_lexer": "ipython3",
   "version": "3.10.8"
  }
 },
 "nbformat": 4,
 "nbformat_minor": 5
}
